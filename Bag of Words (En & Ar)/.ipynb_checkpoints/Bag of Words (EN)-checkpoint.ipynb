{
 "cells": [
  {
   "cell_type": "code",
   "execution_count": 1,
   "metadata": {},
   "outputs": [],
   "source": [
    "import nltk \n",
    "import re\n",
    "import numpy\n",
    "import pandas as pd\n",
    "from nltk.corpus import stopwords"
   ]
  },
  {
   "cell_type": "code",
   "execution_count": 2,
   "metadata": {},
   "outputs": [],
   "source": [
    "def word_extraction(sentence):\n",
    "    words = re.sub(\"[^\\w]\", \" \",  sentence).split()\n",
    "    cleaned_text = [w.lower() for w in words if w not in stopwords.words('english')]\n",
    "    return cleaned_text"
   ]
  },
  {
   "cell_type": "code",
   "execution_count": 3,
   "metadata": {},
   "outputs": [],
   "source": [
    "def tokenize(sentences):\n",
    "    words = []\n",
    "    for sentence in sentences:\n",
    "        w = word_extraction(sentence)\n",
    "        words.extend(w)\n",
    "    words = sorted(list(set(words)))\n",
    "    return words"
   ]
  },
  {
   "cell_type": "code",
   "execution_count": 4,
   "metadata": {},
   "outputs": [],
   "source": [
    "## Generate Bag of Words -- Manually \n",
    "def generate_bow(allsentences):\n",
    "    vocab = tokenize(allsentences)\n",
    "    print(\"Word List for Document \\n{0} \\n\".format(vocab))\n",
    "    for sentence in allsentences:\n",
    "        words = word_extraction(sentence)\n",
    "        bag_vector = numpy.zeros(len(vocab))\n",
    "        for w in words:\n",
    "            for i,word in enumerate(vocab):\n",
    "                if word == w:\n",
    "                    bag_vector[i] += 1\n",
    "        print(\"{0}\\n{1}\\n\".format(sentence,numpy.array(bag_vector)))\n",
    "        print('---------------------------------------------------')"
   ]
  },
  {
   "cell_type": "code",
   "execution_count": null,
   "metadata": {},
   "outputs": [],
   "source": [
    "## Generate Bag of Words -- Manually \n",
    "def generate_bow2(allsentences):\n",
    "    vocab = tokenize(allsentences)\n",
    "    print(\"Word List for Document \\n{0} \\n\".format(vocab))\n",
    "    for sentence in allsentences:\n",
    "        words = word_extraction(sentence)\n",
    "        bag_vector = numpy.zeros(len(vocab))\n",
    "        for w in words:\n",
    "            for i,word in enumerate(vocab):\n",
    "                if word == w:\n",
    "                    bag_vector[i] += 1\n",
    "    pd.DataFrame(bag_vector.toarray(),columns=cv.get_feature_names())"
   ]
  },
  {
   "cell_type": "code",
   "execution_count": null,
   "metadata": {},
   "outputs": [],
   "source": [
    "# S1 = ['it','was','the','best','of']\n",
    "# S2 = ['i','love','python','so','much']\n",
    "# S3 = ['he','was','playing','the','game']\n",
    "\n",
    "# words = ['it','was','the','best','of','i','love','python','so','much','he','was','playing','the','game']\n",
    "# words = [['it','was','the','best','of'] , ['i','love','python','so','much'] , ['he','was','playing','the','game']]\n"
   ]
  },
  {
   "cell_type": "code",
   "execution_count": 6,
   "metadata": {},
   "outputs": [],
   "source": [
    "text = \"Mary and Samantha arrived at the bus station early but waited until noon for the bus\""
   ]
  },
  {
   "cell_type": "code",
   "execution_count": 7,
   "metadata": {},
   "outputs": [
    {
     "data": {
      "text/plain": [
       "['mary',\n",
       " 'samantha',\n",
       " 'arrived',\n",
       " 'bus',\n",
       " 'station',\n",
       " 'early',\n",
       " 'waited',\n",
       " 'noon',\n",
       " 'bus']"
      ]
     },
     "execution_count": 7,
     "metadata": {},
     "output_type": "execute_result"
    }
   ],
   "source": [
    "word_extraction(text)"
   ]
  },
  {
   "cell_type": "code",
   "execution_count": 8,
   "metadata": {},
   "outputs": [
    {
     "data": {
      "text/plain": [
       "['arrived', 'bus', 'early', 'mary', 'noon', 'samantha', 'station', 'waited']"
      ]
     },
     "execution_count": 8,
     "metadata": {},
     "output_type": "execute_result"
    }
   ],
   "source": [
    "tokenize(word_extraction(text))"
   ]
  },
  {
   "cell_type": "code",
   "execution_count": 9,
   "metadata": {},
   "outputs": [
    {
     "name": "stdout",
     "output_type": "stream",
     "text": [
      "Word List for Document \n",
      "['arrived', 'bus', 'early', 'mary', 'noon', 'samantha', 'station', 'waited'] \n",
      "\n",
      "mary\n",
      "[0. 0. 0. 1. 0. 0. 0. 0.]\n",
      "\n",
      "---------------------------------------------------\n",
      "samantha\n",
      "[0. 0. 0. 0. 0. 1. 0. 0.]\n",
      "\n",
      "---------------------------------------------------\n",
      "arrived\n",
      "[1. 0. 0. 0. 0. 0. 0. 0.]\n",
      "\n",
      "---------------------------------------------------\n",
      "bus\n",
      "[0. 1. 0. 0. 0. 0. 0. 0.]\n",
      "\n",
      "---------------------------------------------------\n",
      "station\n",
      "[0. 0. 0. 0. 0. 0. 1. 0.]\n",
      "\n",
      "---------------------------------------------------\n",
      "early\n",
      "[0. 0. 1. 0. 0. 0. 0. 0.]\n",
      "\n",
      "---------------------------------------------------\n",
      "waited\n",
      "[0. 0. 0. 0. 0. 0. 0. 1.]\n",
      "\n",
      "---------------------------------------------------\n",
      "noon\n",
      "[0. 0. 0. 0. 1. 0. 0. 0.]\n",
      "\n",
      "---------------------------------------------------\n",
      "bus\n",
      "[0. 1. 0. 0. 0. 0. 0. 0.]\n",
      "\n",
      "---------------------------------------------------\n"
     ]
    }
   ],
   "source": [
    "generate_bow(word_extraction(text))"
   ]
  },
  {
   "cell_type": "code",
   "execution_count": null,
   "metadata": {},
   "outputs": [],
   "source": [
    "generate_bow2(word_extraction(text))"
   ]
  },
  {
   "cell_type": "code",
   "execution_count": 10,
   "metadata": {},
   "outputs": [],
   "source": [
    "allsentences = [\"Joe waited for the train\",\n",
    "                \"The train was late\",\n",
    "                \"Mary and Samantha took the bus\",\n",
    "               \"I looked for Mary and Samantha at the bus station\",\n",
    "                \"Mary and Samantha arrived at the bus station early but waited until noon for the bus\"]\n",
    "\n"
   ]
  },
  {
   "cell_type": "code",
   "execution_count": 11,
   "metadata": {},
   "outputs": [
    {
     "name": "stdout",
     "output_type": "stream",
     "text": [
      "Word List for Document \n",
      "['arrived', 'bus', 'early', 'i', 'joe', 'late', 'looked', 'mary', 'noon', 'samantha', 'station', 'the', 'took', 'train', 'waited'] \n",
      "\n",
      "Joe waited for the train\n",
      "[0. 0. 0. 0. 1. 0. 0. 0. 0. 0. 0. 0. 0. 1. 1.]\n",
      "\n",
      "---------------------------------------------------\n",
      "The train was late\n",
      "[0. 0. 0. 0. 0. 1. 0. 0. 0. 0. 0. 1. 0. 1. 0.]\n",
      "\n",
      "---------------------------------------------------\n",
      "Mary and Samantha took the bus\n",
      "[0. 1. 0. 0. 0. 0. 0. 1. 0. 1. 0. 0. 1. 0. 0.]\n",
      "\n",
      "---------------------------------------------------\n",
      "I looked for Mary and Samantha at the bus station\n",
      "[0. 1. 0. 1. 0. 0. 1. 1. 0. 1. 1. 0. 0. 0. 0.]\n",
      "\n",
      "---------------------------------------------------\n",
      "Mary and Samantha arrived at the bus station early but waited until noon for the bus\n",
      "[1. 2. 1. 0. 0. 0. 0. 1. 1. 1. 1. 0. 0. 0. 1.]\n",
      "\n",
      "---------------------------------------------------\n"
     ]
    }
   ],
   "source": [
    "generate_bow(allsentences)"
   ]
  },
  {
   "cell_type": "code",
   "execution_count": 12,
   "metadata": {},
   "outputs": [
    {
     "name": "stdout",
     "output_type": "stream",
     "text": [
      "Joe waited for the train\n",
      "[0, 0, 0, 0, 0, 0, 1, 1, 0, 0, 0, 0, 0, 0, 1, 0, 1, 0, 1, 0]\n",
      "---------------------------------------------------\n",
      "The train was late\n",
      "[0, 0, 0, 0, 0, 0, 0, 0, 1, 0, 0, 0, 0, 0, 1, 0, 1, 0, 0, 1]\n",
      "---------------------------------------------------\n",
      "Mary and Samantha took the bus\n",
      "[1, 0, 0, 1, 0, 0, 0, 0, 0, 0, 1, 0, 1, 0, 1, 1, 0, 0, 0, 0]\n",
      "---------------------------------------------------\n",
      "I looked for Mary and Samantha at the bus station\n",
      "[1, 0, 1, 1, 0, 0, 1, 0, 0, 1, 1, 0, 1, 1, 1, 0, 0, 0, 0, 0]\n",
      "---------------------------------------------------\n",
      "Mary and Samantha arrived at the bus station early but waited until noon for the bus\n",
      "[1, 1, 1, 2, 1, 1, 1, 0, 0, 0, 1, 1, 1, 1, 2, 0, 0, 1, 1, 0]\n",
      "---------------------------------------------------\n"
     ]
    }
   ],
   "source": [
    "## Using Library\n",
    "from sklearn.feature_extraction.text import CountVectorizer\n",
    "\n",
    "vectorizer = CountVectorizer()\n",
    "X = vectorizer.fit_transform(allsentences)\n",
    "\n",
    "for i in range(len(allsentences)) : \n",
    "    print(allsentences[i])\n",
    "    print(list(X.toarray()[i]))\n",
    "    \n",
    "    print('---------------------------------------------------')"
   ]
  },
  {
   "cell_type": "code",
   "execution_count": 2,
   "metadata": {},
   "outputs": [
    {
     "ename": "NameError",
     "evalue": "name 'X' is not defined",
     "output_type": "error",
     "traceback": [
      "\u001b[1;31m---------------------------------------------------------------------------\u001b[0m",
      "\u001b[1;31mNameError\u001b[0m                                 Traceback (most recent call last)",
      "\u001b[1;32m<ipython-input-2-6d4cce5cd1ac>\u001b[0m in \u001b[0;36m<module>\u001b[1;34m\u001b[0m\n\u001b[0;32m      1\u001b[0m \u001b[1;32mimport\u001b[0m \u001b[0mpandas\u001b[0m \u001b[1;32mas\u001b[0m \u001b[0mpd\u001b[0m\u001b[1;33m\u001b[0m\u001b[1;33m\u001b[0m\u001b[0m\n\u001b[0;32m      2\u001b[0m \u001b[1;33m\u001b[0m\u001b[0m\n\u001b[1;32m----> 3\u001b[1;33m \u001b[0mpd\u001b[0m\u001b[1;33m.\u001b[0m\u001b[0mDataFrame\u001b[0m\u001b[1;33m(\u001b[0m\u001b[0mX\u001b[0m\u001b[1;33m.\u001b[0m\u001b[0mtoarray\u001b[0m\u001b[1;33m(\u001b[0m\u001b[1;33m)\u001b[0m\u001b[1;33m,\u001b[0m\u001b[0mcolumns\u001b[0m\u001b[1;33m=\u001b[0m\u001b[0mcv\u001b[0m\u001b[1;33m.\u001b[0m\u001b[0mget_feature_names\u001b[0m\u001b[1;33m(\u001b[0m\u001b[1;33m)\u001b[0m\u001b[1;33m)\u001b[0m\u001b[1;33m\u001b[0m\u001b[1;33m\u001b[0m\u001b[0m\n\u001b[0m",
      "\u001b[1;31mNameError\u001b[0m: name 'X' is not defined"
     ]
    }
   ],
   "source": [
    "pd.DataFrame(X.toarray(),columns=cv.get_feature_names())"
   ]
  }
 ],
 "metadata": {
  "kernelspec": {
   "display_name": "Python 3",
   "language": "python",
   "name": "python3"
  },
  "language_info": {
   "codemirror_mode": {
    "name": "ipython",
    "version": 3
   },
   "file_extension": ".py",
   "mimetype": "text/x-python",
   "name": "python",
   "nbconvert_exporter": "python",
   "pygments_lexer": "ipython3",
   "version": "3.6.13"
  }
 },
 "nbformat": 4,
 "nbformat_minor": 4
}
