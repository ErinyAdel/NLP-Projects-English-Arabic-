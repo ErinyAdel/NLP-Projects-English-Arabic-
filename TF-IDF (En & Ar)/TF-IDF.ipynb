{
 "cells": [
  {
   "cell_type": "code",
   "execution_count": 1,
   "metadata": {},
   "outputs": [],
   "source": [
    "import pandas as pd"
   ]
  },
  {
   "cell_type": "code",
   "execution_count": 2,
   "metadata": {},
   "outputs": [],
   "source": [
    "def computeTF(wordDict, bagOfWords):\n",
    "    tfDict = {}\n",
    "    bagOfWordsCount = len(bagOfWords)\n",
    "    for word, count in wordDict.items():\n",
    "        tfDict[word] = count / float(bagOfWordsCount)\n",
    "    return tfDict"
   ]
  },
  {
   "cell_type": "code",
   "execution_count": 3,
   "metadata": {},
   "outputs": [],
   "source": [
    "def computeIDF(documents):\n",
    "    import math\n",
    "    N = len(documents)\n",
    "    \n",
    "    idfDict = dict.fromkeys(documents[0].keys(), 0)\n",
    "    for document in documents:\n",
    "        for word, val in document.items():\n",
    "            if val > 0:\n",
    "                idfDict[word] += 1\n",
    "    \n",
    "    for word, val in idfDict.items():\n",
    "        idfDict[word] = math.log(N / float(val))\n",
    "    return idfDict"
   ]
  },
  {
   "cell_type": "code",
   "execution_count": 4,
   "metadata": {},
   "outputs": [],
   "source": [
    "def computeTFIDF(tfBagOfWords, idfs):\n",
    "    tfidf = {}\n",
    "    for word, val in tfBagOfWords.items():\n",
    "        tfidf[word] = val * idfs[word]\n",
    "    return tfidf"
   ]
  },
  {
   "cell_type": "code",
   "execution_count": 5,
   "metadata": {},
   "outputs": [],
   "source": [
    "documentA = 'the man went out for a walk'\n",
    "documentB = 'the children sat around the fire'\n",
    "\n",
    "#documentA = 'ذهب محمد الي الجامعة ليدرس الفيزياء و الكيمياء'\n",
    "#documentB = 'ذاكرت مني الرياضيات و الفيزياء في الجامعة'"
   ]
  },
  {
   "cell_type": "code",
   "execution_count": 6,
   "metadata": {},
   "outputs": [],
   "source": [
    "bagOfWordsA = documentA.split(' ')\n",
    "bagOfWordsB = documentB.split(' ')"
   ]
  },
  {
   "cell_type": "code",
   "execution_count": 7,
   "metadata": {},
   "outputs": [
    {
     "data": {
      "text/plain": [
       "{'a',\n",
       " 'around',\n",
       " 'children',\n",
       " 'fire',\n",
       " 'for',\n",
       " 'man',\n",
       " 'out',\n",
       " 'sat',\n",
       " 'the',\n",
       " 'walk',\n",
       " 'went'}"
      ]
     },
     "execution_count": 7,
     "metadata": {},
     "output_type": "execute_result"
    }
   ],
   "source": [
    "uniqueWords = set(bagOfWordsA).union(set(bagOfWordsB))\n",
    "uniqueWords"
   ]
  },
  {
   "cell_type": "code",
   "execution_count": 8,
   "metadata": {},
   "outputs": [
    {
     "name": "stdout",
     "output_type": "stream",
     "text": [
      "{'sat': 0, 'fire': 0, 'for': 0, 'children': 0, 'man': 0, 'out': 0, 'a': 0, 'walk': 0, 'around': 0, 'the': 0, 'went': 0} \n",
      "\n",
      "{'sat': 0, 'fire': 0, 'for': 1, 'children': 0, 'man': 1, 'out': 1, 'a': 1, 'walk': 1, 'around': 0, 'the': 1, 'went': 1}\n"
     ]
    }
   ],
   "source": [
    "numOfWordsA = dict.fromkeys(uniqueWords, 0)\n",
    "print(numOfWordsA, '\\n')\n",
    "\n",
    "for word in bagOfWordsA:\n",
    "    numOfWordsA[word] += 1 ## Key = Key + 1\n",
    "    \n",
    "print(numOfWordsA)"
   ]
  },
  {
   "cell_type": "code",
   "execution_count": 9,
   "metadata": {},
   "outputs": [
    {
     "name": "stdout",
     "output_type": "stream",
     "text": [
      "{'sat': 0, 'fire': 0, 'for': 0, 'children': 0, 'man': 0, 'out': 0, 'a': 0, 'walk': 0, 'around': 0, 'the': 0, 'went': 0} \n",
      "\n",
      "{'sat': 1, 'fire': 1, 'for': 0, 'children': 1, 'man': 0, 'out': 0, 'a': 0, 'walk': 0, 'around': 1, 'the': 2, 'went': 0}\n"
     ]
    }
   ],
   "source": [
    "numOfWordsB = dict.fromkeys(uniqueWords, 0)\n",
    "print(numOfWordsB, '\\n')\n",
    "\n",
    "for word in bagOfWordsB:\n",
    "    numOfWordsB[word] += 1 ## Key = Key + 1\n",
    "\n",
    "print(numOfWordsB)"
   ]
  },
  {
   "cell_type": "code",
   "execution_count": 10,
   "metadata": {},
   "outputs": [
    {
     "data": {
      "text/plain": [
       "{'sat': 0.0,\n",
       " 'fire': 0.0,\n",
       " 'for': 0.14285714285714285,\n",
       " 'children': 0.0,\n",
       " 'man': 0.14285714285714285,\n",
       " 'out': 0.14285714285714285,\n",
       " 'a': 0.14285714285714285,\n",
       " 'walk': 0.14285714285714285,\n",
       " 'around': 0.0,\n",
       " 'the': 0.14285714285714285,\n",
       " 'went': 0.14285714285714285}"
      ]
     },
     "execution_count": 10,
     "metadata": {},
     "output_type": "execute_result"
    }
   ],
   "source": [
    "tfA = computeTF(numOfWordsA,bagOfWordsA)\n",
    "tfA"
   ]
  },
  {
   "cell_type": "code",
   "execution_count": 11,
   "metadata": {},
   "outputs": [
    {
     "data": {
      "text/plain": [
       "{'sat': 0.16666666666666666,\n",
       " 'fire': 0.16666666666666666,\n",
       " 'for': 0.0,\n",
       " 'children': 0.16666666666666666,\n",
       " 'man': 0.0,\n",
       " 'out': 0.0,\n",
       " 'a': 0.0,\n",
       " 'walk': 0.0,\n",
       " 'around': 0.16666666666666666,\n",
       " 'the': 0.3333333333333333,\n",
       " 'went': 0.0}"
      ]
     },
     "execution_count": 11,
     "metadata": {},
     "output_type": "execute_result"
    }
   ],
   "source": [
    "tfB = computeTF(numOfWordsB, bagOfWordsB)\n",
    "tfB"
   ]
  },
  {
   "cell_type": "code",
   "execution_count": 12,
   "metadata": {},
   "outputs": [
    {
     "data": {
      "text/plain": [
       "{'sat': 0.6931471805599453,\n",
       " 'fire': 0.6931471805599453,\n",
       " 'for': 0.6931471805599453,\n",
       " 'children': 0.6931471805599453,\n",
       " 'man': 0.6931471805599453,\n",
       " 'out': 0.6931471805599453,\n",
       " 'a': 0.6931471805599453,\n",
       " 'walk': 0.6931471805599453,\n",
       " 'around': 0.6931471805599453,\n",
       " 'the': 0.0,\n",
       " 'went': 0.6931471805599453}"
      ]
     },
     "execution_count": 12,
     "metadata": {},
     "output_type": "execute_result"
    }
   ],
   "source": [
    "idfs = computeIDF([numOfWordsA, numOfWordsB])\n",
    "idfs"
   ]
  },
  {
   "cell_type": "code",
   "execution_count": 13,
   "metadata": {},
   "outputs": [
    {
     "data": {
      "text/plain": [
       "{'sat': 0.0,\n",
       " 'fire': 0.0,\n",
       " 'for': 0.09902102579427789,\n",
       " 'children': 0.0,\n",
       " 'man': 0.09902102579427789,\n",
       " 'out': 0.09902102579427789,\n",
       " 'a': 0.09902102579427789,\n",
       " 'walk': 0.09902102579427789,\n",
       " 'around': 0.0,\n",
       " 'the': 0.0,\n",
       " 'went': 0.09902102579427789}"
      ]
     },
     "execution_count": 13,
     "metadata": {},
     "output_type": "execute_result"
    }
   ],
   "source": [
    "tfidfA = computeTFIDF(tfA, idfs)\n",
    "tfidfA"
   ]
  },
  {
   "cell_type": "code",
   "execution_count": 14,
   "metadata": {},
   "outputs": [
    {
     "data": {
      "text/plain": [
       "{'sat': 0.11552453009332421,\n",
       " 'fire': 0.11552453009332421,\n",
       " 'for': 0.0,\n",
       " 'children': 0.11552453009332421,\n",
       " 'man': 0.0,\n",
       " 'out': 0.0,\n",
       " 'a': 0.0,\n",
       " 'walk': 0.0,\n",
       " 'around': 0.11552453009332421,\n",
       " 'the': 0.0,\n",
       " 'went': 0.0}"
      ]
     },
     "execution_count": 14,
     "metadata": {},
     "output_type": "execute_result"
    }
   ],
   "source": [
    "tfidfB = computeTFIDF(tfB, idfs)\n",
    "tfidfB"
   ]
  },
  {
   "cell_type": "code",
   "execution_count": 15,
   "metadata": {},
   "outputs": [
    {
     "data": {
      "text/html": [
       "<div>\n",
       "<style scoped>\n",
       "    .dataframe tbody tr th:only-of-type {\n",
       "        vertical-align: middle;\n",
       "    }\n",
       "\n",
       "    .dataframe tbody tr th {\n",
       "        vertical-align: top;\n",
       "    }\n",
       "\n",
       "    .dataframe thead th {\n",
       "        text-align: right;\n",
       "    }\n",
       "</style>\n",
       "<table border=\"1\" class=\"dataframe\">\n",
       "  <thead>\n",
       "    <tr style=\"text-align: right;\">\n",
       "      <th></th>\n",
       "      <th>sat</th>\n",
       "      <th>fire</th>\n",
       "      <th>for</th>\n",
       "      <th>children</th>\n",
       "      <th>man</th>\n",
       "      <th>out</th>\n",
       "      <th>a</th>\n",
       "      <th>walk</th>\n",
       "      <th>around</th>\n",
       "      <th>the</th>\n",
       "      <th>went</th>\n",
       "    </tr>\n",
       "  </thead>\n",
       "  <tbody>\n",
       "    <tr>\n",
       "      <th>0</th>\n",
       "      <td>0.000000</td>\n",
       "      <td>0.000000</td>\n",
       "      <td>0.099021</td>\n",
       "      <td>0.000000</td>\n",
       "      <td>0.099021</td>\n",
       "      <td>0.099021</td>\n",
       "      <td>0.099021</td>\n",
       "      <td>0.099021</td>\n",
       "      <td>0.000000</td>\n",
       "      <td>0.0</td>\n",
       "      <td>0.099021</td>\n",
       "    </tr>\n",
       "    <tr>\n",
       "      <th>1</th>\n",
       "      <td>0.115525</td>\n",
       "      <td>0.115525</td>\n",
       "      <td>0.000000</td>\n",
       "      <td>0.115525</td>\n",
       "      <td>0.000000</td>\n",
       "      <td>0.000000</td>\n",
       "      <td>0.000000</td>\n",
       "      <td>0.000000</td>\n",
       "      <td>0.115525</td>\n",
       "      <td>0.0</td>\n",
       "      <td>0.000000</td>\n",
       "    </tr>\n",
       "  </tbody>\n",
       "</table>\n",
       "</div>"
      ],
      "text/plain": [
       "        sat      fire       for  children       man       out         a  \\\n",
       "0  0.000000  0.000000  0.099021  0.000000  0.099021  0.099021  0.099021   \n",
       "1  0.115525  0.115525  0.000000  0.115525  0.000000  0.000000  0.000000   \n",
       "\n",
       "       walk    around  the      went  \n",
       "0  0.099021  0.000000  0.0  0.099021  \n",
       "1  0.000000  0.115525  0.0  0.000000  "
      ]
     },
     "execution_count": 15,
     "metadata": {},
     "output_type": "execute_result"
    }
   ],
   "source": [
    "df = pd.DataFrame([tfidfA, tfidfB])\n",
    "df.head()"
   ]
  },
  {
   "cell_type": "code",
   "execution_count": 16,
   "metadata": {},
   "outputs": [
    {
     "name": "stdout",
     "output_type": "stream",
     "text": [
      "  (0, 8)\t0.42615959880289433\n",
      "  (0, 3)\t0.42615959880289433\n",
      "  (0, 5)\t0.42615959880289433\n",
      "  (0, 9)\t0.42615959880289433\n",
      "  (0, 4)\t0.42615959880289433\n",
      "  (0, 7)\t0.3032160644503863\n",
      "  (1, 2)\t0.40740123733358447\n",
      "  (1, 0)\t0.40740123733358447\n",
      "  (1, 6)\t0.40740123733358447\n",
      "  (1, 1)\t0.40740123733358447\n",
      "  (1, 7)\t0.5797386715376657\n",
      "['around', 'children', 'fire', 'for', 'man', 'out', 'sat', 'the', 'walk', 'went']\n"
     ]
    }
   ],
   "source": [
    "## Using Library\n",
    "from sklearn.feature_extraction.text import TfidfVectorizer\n",
    "vectorizer = TfidfVectorizer()\n",
    "\n",
    "vectors = vectorizer.fit_transform([documentA, documentB])\n",
    "print(vectors)\n",
    "\n",
    "feature_names = vectorizer.get_feature_names()\n",
    "print(feature_names)"
   ]
  },
  {
   "cell_type": "code",
   "execution_count": 17,
   "metadata": {},
   "outputs": [],
   "source": [
    "dense = vectors.todense()\n",
    "dense\n",
    "\n",
    "denselist = dense.tolist()"
   ]
  },
  {
   "cell_type": "code",
   "execution_count": 18,
   "metadata": {},
   "outputs": [
    {
     "data": {
      "text/html": [
       "<div>\n",
       "<style scoped>\n",
       "    .dataframe tbody tr th:only-of-type {\n",
       "        vertical-align: middle;\n",
       "    }\n",
       "\n",
       "    .dataframe tbody tr th {\n",
       "        vertical-align: top;\n",
       "    }\n",
       "\n",
       "    .dataframe thead th {\n",
       "        text-align: right;\n",
       "    }\n",
       "</style>\n",
       "<table border=\"1\" class=\"dataframe\">\n",
       "  <thead>\n",
       "    <tr style=\"text-align: right;\">\n",
       "      <th></th>\n",
       "      <th>around</th>\n",
       "      <th>children</th>\n",
       "      <th>fire</th>\n",
       "      <th>for</th>\n",
       "      <th>man</th>\n",
       "      <th>out</th>\n",
       "      <th>sat</th>\n",
       "      <th>the</th>\n",
       "      <th>walk</th>\n",
       "      <th>went</th>\n",
       "    </tr>\n",
       "  </thead>\n",
       "  <tbody>\n",
       "    <tr>\n",
       "      <th>0</th>\n",
       "      <td>0.000000</td>\n",
       "      <td>0.000000</td>\n",
       "      <td>0.000000</td>\n",
       "      <td>0.42616</td>\n",
       "      <td>0.42616</td>\n",
       "      <td>0.42616</td>\n",
       "      <td>0.000000</td>\n",
       "      <td>0.303216</td>\n",
       "      <td>0.42616</td>\n",
       "      <td>0.42616</td>\n",
       "    </tr>\n",
       "    <tr>\n",
       "      <th>1</th>\n",
       "      <td>0.407401</td>\n",
       "      <td>0.407401</td>\n",
       "      <td>0.407401</td>\n",
       "      <td>0.00000</td>\n",
       "      <td>0.00000</td>\n",
       "      <td>0.00000</td>\n",
       "      <td>0.407401</td>\n",
       "      <td>0.579739</td>\n",
       "      <td>0.00000</td>\n",
       "      <td>0.00000</td>\n",
       "    </tr>\n",
       "  </tbody>\n",
       "</table>\n",
       "</div>"
      ],
      "text/plain": [
       "     around  children      fire      for      man      out       sat  \\\n",
       "0  0.000000  0.000000  0.000000  0.42616  0.42616  0.42616  0.000000   \n",
       "1  0.407401  0.407401  0.407401  0.00000  0.00000  0.00000  0.407401   \n",
       "\n",
       "        the     walk     went  \n",
       "0  0.303216  0.42616  0.42616  \n",
       "1  0.579739  0.00000  0.00000  "
      ]
     },
     "execution_count": 18,
     "metadata": {},
     "output_type": "execute_result"
    }
   ],
   "source": [
    "df = pd.DataFrame(denselist, columns=feature_names)\n",
    "df.head()"
   ]
  }
 ],
 "metadata": {
  "kernelspec": {
   "display_name": "Python 3",
   "language": "python",
   "name": "python3"
  },
  "language_info": {
   "codemirror_mode": {
    "name": "ipython",
    "version": 3
   },
   "file_extension": ".py",
   "mimetype": "text/x-python",
   "name": "python",
   "nbconvert_exporter": "python",
   "pygments_lexer": "ipython3",
   "version": "3.8.5"
  }
 },
 "nbformat": 4,
 "nbformat_minor": 4
}
