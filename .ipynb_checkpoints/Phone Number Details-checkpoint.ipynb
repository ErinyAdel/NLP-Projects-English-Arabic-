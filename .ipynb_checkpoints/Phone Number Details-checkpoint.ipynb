{
 "cells": [
  {
   "cell_type": "code",
   "execution_count": 1,
   "id": "9dc4d8fd",
   "metadata": {},
   "outputs": [
    {
     "name": "stdout",
     "output_type": "stream",
     "text": [
      "Collecting phonenumbers\n",
      "  Downloading phonenumbers-8.12.39-py2.py3-none-any.whl (2.6 MB)\n",
      "Installing collected packages: phonenumbers\n",
      "Successfully installed phonenumbers-8.12.39\n"
     ]
    }
   ],
   "source": [
    "!pip install phonenumbers\n",
    "## https://www.geeksforgeeks.org/phonenumbers-module-in-python/"
   ]
  },
  {
   "cell_type": "code",
   "execution_count": 6,
   "id": "308c613a",
   "metadata": {},
   "outputs": [],
   "source": [
    "import phonenumbers\n",
    "from phonenumbers import geocoder, carrier"
   ]
  },
  {
   "cell_type": "code",
   "execution_count": 13,
   "id": "0916055e",
   "metadata": {},
   "outputs": [
    {
     "name": "stdout",
     "output_type": "stream",
     "text": [
      "Egypt \n",
      "\n",
      "Orange\n"
     ]
    }
   ],
   "source": [
    "number = \"+20-12-xxxx-xxxx\"\n",
    "\n",
    "ch_number = phonenumbers.parse(number, \"CH\")\n",
    "region = geocoder.description_for_number(ch_number, \"en\")\n",
    "print(region, '\\n')\n",
    "\n",
    "service_number = phonenumbers.parse(number, \"RO\")\n",
    "carrier = carrier.name_for_number(service_number, 'en')\n",
    "print(carrier)"
   ]
  }
 ],
 "metadata": {
  "kernelspec": {
   "display_name": "Python 3",
   "language": "python",
   "name": "python3"
  },
  "language_info": {
   "codemirror_mode": {
    "name": "ipython",
    "version": 3
   },
   "file_extension": ".py",
   "mimetype": "text/x-python",
   "name": "python",
   "nbconvert_exporter": "python",
   "pygments_lexer": "ipython3",
   "version": "3.6.13"
  }
 },
 "nbformat": 4,
 "nbformat_minor": 5
}
